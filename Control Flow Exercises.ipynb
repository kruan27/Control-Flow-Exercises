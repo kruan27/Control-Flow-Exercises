{
 "cells": [
  {
   "cell_type": "markdown",
   "id": "a11428f8",
   "metadata": {},
   "source": [
    "Exercise 1\n",
    "Guess a number between 1 to 9 given by the user."
   ]
  },
  {
   "cell_type": "code",
   "execution_count": 21,
   "id": "171e5cb2",
   "metadata": {
    "scrolled": true
   },
   "outputs": [
    {
     "name": "stdout",
     "output_type": "stream",
     "text": [
      "Please type a number from 1-9: 11\n",
      "Your number is not within 1-9, please input again:\n",
      "11\n",
      "Your number is not within 1-9, please input again:\n",
      "12\n",
      "Your number is not within 1-9, please input again:\n",
      "20\n",
      "Your number is not within 1-9, please input again:\n",
      "3\n",
      "Your number is: 3\n"
     ]
    }
   ],
   "source": [
    "x = int(input(\"Please type a number from 1-9: \"))\n",
    "\n",
    "while x >= 1 and x >= 9:\n",
    "    print (\"Your number is not within 1-9, please input again:\")\n",
    "    x = int(input())\n",
    "    if x >= 1 and x <= 9:\n",
    "        break\n",
    "if x >= 1 and x <= 9:\n",
    "    print (\"Your number is:\", x)"
   ]
  },
  {
   "cell_type": "markdown",
   "id": "951b380a",
   "metadata": {},
   "source": [
    "Exercise 2\n",
    "Check the validity of password input by the user.\n",
    "\n",
    "Validation:\n",
    "\n",
    "At least 1 letter between [a-z] and 1 letter between [A-Z]\n",
    "At least 1 number between [0-9]\n",
    "At least 1 character from [$#@]\n",
    "Minimum length 6 characters\n",
    "Maximum length 16 characters"
   ]
  },
  {
   "cell_type": "code",
   "execution_count": 13,
   "id": "4a5d580f",
   "metadata": {},
   "outputs": [
    {
     "name": "stdout",
     "output_type": "stream",
     "text": [
      "Please make a password:hunnie3@\n",
      "password should have at least one uppercase letter\n",
      "password is not valid\n"
     ]
    }
   ],
   "source": [
    "p = (input(\"Please make a password:\"))\n",
    "\n",
    "def pass_check(p):\n",
    "    special_sym = ['$', '#', '@']\n",
    "    if len(p) < 6:\n",
    "        print ('length should be at least 6')\n",
    "        return False\n",
    "    if len(p) > 16:\n",
    "        print ('length should not be greater than 16')\n",
    "        return False\n",
    "    if not any(char.isdigit() for char in p):\n",
    "        print ('password should at least have one number')\n",
    "        return False\n",
    "    if not any(char.isupper() for char in p):\n",
    "        print ('password should have at least one uppercase letter')\n",
    "        return False\n",
    "    if not any(char.islower() for char in p):\n",
    "        print ('password should have at least one lowercase letter')\n",
    "        return False\n",
    "    if not any(char in special_sym for char in p):\n",
    "        print ('password should have at least one special symbols $#@')\n",
    "        return False\n",
    "    else:\n",
    "        return True\n",
    "if pass_check(p) == True:\n",
    "    print ('password is valid')\n",
    "else:\n",
    "    print ('password is not valid')"
   ]
  },
  {
   "cell_type": "markdown",
   "id": "17ed17a9",
   "metadata": {},
   "source": [
    "Exercise 3\n",
    "Get input of the age of 3 people by user and determine oldest and youngest among them"
   ]
  },
  {
   "cell_type": "code",
   "execution_count": 41,
   "id": "a5d6bd58",
   "metadata": {},
   "outputs": [
    {
     "name": "stdout",
     "output_type": "stream",
     "text": [
      "Input the age of three people: 1. 12\n",
      "2. 30\n",
      "3. 34\n",
      "The oldest is: 34 years old, and the youngest is: 12 years old.\n"
     ]
    }
   ],
   "source": [
    "a = list()\n",
    "a.append(int(input(\"Input the age of three people: 1. \")))\n",
    "a.append(int(input(\"2. \")))\n",
    "a.append(int(input(\"3. \")))\n",
    "a.sort()\n",
    "\n",
    "print (\"The oldest is:\", a[len(a)-1], \"years old, and the youngest is:\", a[0], \"years old.\")"
   ]
  },
  {
   "cell_type": "markdown",
   "id": "55589655",
   "metadata": {},
   "source": [
    "Exercise 4\n",
    "A student will not be allowed to sit in exam if his/her attendance is less than 75%.\n",
    "\n",
    "Take following input from user\n",
    "\n",
    "Number of classes held\n",
    "Number of classes attended.\n",
    "And print\n",
    "percentage of class attended.\n",
    "Is student is allowed to sit in exam or not?"
   ]
  },
  {
   "cell_type": "code",
   "execution_count": 10,
   "id": "1472d866",
   "metadata": {},
   "outputs": [
    {
     "name": "stdout",
     "output_type": "stream",
     "text": [
      "How many classes were held?:100\n",
      "How many classes did you attend?:74\n",
      "You are not allowed to sit in exam.\n"
     ]
    }
   ],
   "source": [
    "n = int(input(\"How many classes were held?:\"))\n",
    "b = int(input(\"How many classes did you attend?:\"))\n",
    "\n",
    "if b/n < 0.75:\n",
    "    print (\"You are not allowed to sit in exam.\")\n",
    "else:\n",
    "    print (\"You are allowed to sit in exam.\" )"
   ]
  },
  {
   "cell_type": "markdown",
   "id": "064e3acb",
   "metadata": {},
   "source": [
    "Exercise 5\n",
    "\n",
    "Get an integer N from the user and perform the following actions:\n",
    "\n",
    "if N is odd, print \"weird\"\n",
    "if N is even and in the inclusive range of 2 to 5, print \"Not Weird\"\n",
    "if N is even and in the inclusive range of 6 to 20, print \"Weird\"\n",
    "if N is even and greater than 20, print \"Not Weird\""
   ]
  },
  {
   "cell_type": "code",
   "execution_count": 18,
   "id": "16b8557d",
   "metadata": {},
   "outputs": [
    {
     "name": "stdout",
     "output_type": "stream",
     "text": [
      "22\n",
      "Not Weird\n"
     ]
    }
   ],
   "source": [
    "N = int(input())\n",
    "\n",
    "if N%2 != 0:\n",
    "    print (\"Weird\")\n",
    "elif 2<= N <=5 and N%2 == 0:\n",
    "    print (\"Not Weird\")\n",
    "elif 6<= N <=20 and N%2 == 0:\n",
    "    print (\"Weird\")\n",
    "elif N > 20 and N%2 == 0:\n",
    "    print (\"Not Weird\")\n"
   ]
  }
 ],
 "metadata": {
  "kernelspec": {
   "display_name": "Python 3 (ipykernel)",
   "language": "python",
   "name": "python3"
  },
  "language_info": {
   "codemirror_mode": {
    "name": "ipython",
    "version": 3
   },
   "file_extension": ".py",
   "mimetype": "text/x-python",
   "name": "python",
   "nbconvert_exporter": "python",
   "pygments_lexer": "ipython3",
   "version": "3.9.12"
  }
 },
 "nbformat": 4,
 "nbformat_minor": 5
}
